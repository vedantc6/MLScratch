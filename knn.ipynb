{
 "cells": [
  {
   "cell_type": "markdown",
   "metadata": {},
   "source": [
    "## K - Nearest Neighbors\n",
    "\n",
    "It is a type of supervised machine learning algorithm that can be used for both, classification and regression. However, it is not an estimating model, it is an instance based algorithm (or non-parametric).<br>\n",
    "An instance based model compares new problem instances with instances seen in training, which have been stored in memory. It constructs hypothesis directly from the training instances themselves. One advantage it has over other methods is its ability to adapt its model to previously unseen data. <br>\n",
    "Given an input example, K-NN algorithms retrieve the k most similar instances from memory. Similarity is determined in terms of distance, i.e., the training examples with the smallest distance to the input example are considered to be most similar.\n",
    "\n",
    "1. In k-NN classification, the output is a class membership. An object is classified by a majority vote of its neighbors, with the object being assigned to the class most common among its k nearest neighbors (k is a positive integer, typically small). If k = 1, then the object is simply assigned to the class of that single nearest neighbor.\n",
    "2. In k-NN regression, the output is the property value for the object. This value is the average of the values of its k nearest neighbors."
   ]
  },
  {
   "cell_type": "code",
   "execution_count": 1,
   "metadata": {},
   "outputs": [],
   "source": [
    "import numpy as np\n",
    "import matplotlib.pyplot as plt\n",
    "from sklearn.datasets import load_digits\n",
    "from sklearn.model_selection import train_test_split\n",
    "\n",
    "np.random.seed(2019)"
   ]
  },
  {
   "cell_type": "markdown",
   "metadata": {},
   "source": [
    "### Data"
   ]
  },
  {
   "cell_type": "code",
   "execution_count": 8,
   "metadata": {},
   "outputs": [
    {
     "name": "stdout",
     "output_type": "stream",
     "text": [
      "Shape of training data: (1347, 64)\n",
      "Shape of testing data: (450, 64)\n",
      "Shape of training target: (1347,)\n",
      "Shape of testing target: (450,)\n"
     ]
    },
    {
     "data": {
      "image/png": "[encoded data removed]",
      "text/plain": [
       "<Figure size 576x432 with 10 Axes>"
      ]
     },
     "metadata": {
      "needs_background": "light"
     },
     "output_type": "display_data"
    }
   ],
   "source": [
    "# Images are 64-bit, 1347 + 450 = 1797 in number\n",
    "digits = load_digits()\n",
    "X, y = digits.data, digits.target\n",
    "\n",
    "X_train, X_test, y_train, y_test = train_test_split(X, y)\n",
    "print(f'Shape of training data: {X_train.shape}')\n",
    "print(f'Shape of testing data: {X_test.shape}')\n",
    "print(f'Shape of training target: {y_train.shape}')\n",
    "print(f'Shape of testing target: {y_test.shape}')\n",
    "\n",
    "fig = plt.figure(figsize=(8,6))\n",
    "for i in range(10):\n",
    "    ax = fig.add_subplot(2, 5, i+1)\n",
    "    plt.imshow(X[i].reshape((8,8)))\n",
    "    \n",
    "plt.show()"
   ]
  },
  {
   "cell_type": "markdown",
   "metadata": {},
   "source": [
    "### K-NN algorithm"
   ]
  },
  {
   "cell_type": "code",
   "execution_count": 9,
   "metadata": {},
   "outputs": [],
   "source": [
    "class KNN():\n",
    "    def __init__(self):\n",
    "        pass\n",
    "    \n",
    "    def fit(self, X, y):\n",
    "        self.data = X\n",
    "        self.targets = y\n",
    "        \n",
    "    def euclidean_distance(self, X):\n",
    "#         If one point distance calculation\n",
    "        if X.ndim == 1:\n",
    "            dist = np.sqrt(np.sum((self.data - X)**2, axis=1))\n",
    "#         If matrix of data points\n",
    "        if X.ndim == 2:\n",
    "            dist = [np.sqrt(np.sum((self.data - X[i])**2, axis=1)) for i in range(X.shape[0])]\n",
    "            \n",
    "        return np.array(dist)\n",
    "    \n",
    "    def predict(self, X, k=1):\n",
    "        dists = self.euclidean_distance(X)\n",
    "        if X.ndim == 1:\n",
    "            if k == 1:\n",
    "                nn = np.argmin(dists)\n",
    "                return self.targets[nn]\n",
    "            else:\n",
    "                knn = np.argsort(dists)[:k]\n",
    "                y_knn = self.targets[knn]\n",
    "                max_vote = max(y_knn, key=list(y_knn).count)\n",
    "                return max_vote\n",
    "        if X.ndim == 2:\n",
    "            knn = np.argsort(dists)[:, :k]\n",
    "            y_knn = self.targets[knn]\n",
    "            if k == 1:\n",
    "                return y_knn.T\n",
    "            else:\n",
    "                max_votes = [max(y_knn[i], key=list(y_knn[i]).count) for i in range(X.shape[0])]\n",
    "                return max_votes   "
   ]
  },
  {
   "cell_type": "markdown",
   "metadata": {},
   "source": [
    "### Initializing and training "
   ]
  },
  {
   "cell_type": "code",
   "execution_count": 15,
   "metadata": {},
   "outputs": [
    {
     "name": "stdout",
     "output_type": "stream",
     "text": [
      "Testing for one datapoint, k=1\n",
      "Predicted label: 1\n",
      "True label: 1\n",
      "Testing for one datapoint, k=5\n",
      "Predicted label: 7\n",
      "True label: 7\n",
      "Testing for 20 datapoint, k=1\n",
      "Predicted label: [[6 1 3 0 8 1 3 2 5 7 6 8 0 3 8 4 8 9 8 2]]\n",
      "True label: [6 1 3 0 8 1 3 2 9 7 6 8 0 3 8 4 8 9 8 2]\n",
      "Testing for 20 datapoint, k=5\n",
      "Predicted label: [6, 2, 5, 3, 0, 6, 5, 4, 8, 6, 7, 0, 4, 7, 3, 7, 9, 6, 7, 8]\n",
      "True label: [6 2 5 3 0 6 5 4 8 6 7 0 4 7 3 7 9 6 7 8]\n"
     ]
    }
   ],
   "source": [
    "knn = KNN()\n",
    "knn.fit(X_train, y_train)\n",
    "\n",
    "print('Testing for one datapoint, k=1')\n",
    "print(f'Predicted label: {knn.predict(X_test[0], k=1)}')\n",
    "print(f'True label: {y_test[0]}')\n",
    "print('Testing for one datapoint, k=5')\n",
    "print(f'Predicted label: {knn.predict(X_test[100], k=5)}')\n",
    "print(f'True label: {y_test[100]}')\n",
    "print('Testing for 20 datapoint, k=1')\n",
    "print(f'Predicted label: {knn.predict(X_test[10:30], k=1)}')\n",
    "print(f'True label: {y_test[10:30]}')\n",
    "print('Testing for 20 datapoint, k=5')\n",
    "print(f'Predicted label: {knn.predict(X_test[110:130], k=5)}')\n",
    "print(f'True label: {y_test[110:130]}')"
   ]
  },
  {
   "cell_type": "markdown",
   "metadata": {},
   "source": [
    "### Accuracy"
   ]
  },
  {
   "cell_type": "code",
   "execution_count": 19,
   "metadata": {},
   "outputs": [
    {
     "name": "stdout",
     "output_type": "stream",
     "text": [
      "Test accuracy with k = 1: 98.44444444444444\n",
      "Test accuracy with k = 5: 99.11111111111111\n"
     ]
    }
   ],
   "source": [
    "y_p_test1 = knn.predict(X_test, k=1)\n",
    "test_acc1= np.sum(y_p_test1[0] == y_test)/len(y_p_test1[0]) * 100\n",
    "\n",
    "print(f\"Test accuracy with k = 1: {format(test_acc1)}\")\n",
    "\n",
    "y_p_test5 = knn.predict(X_test, k=5)\n",
    "test_acc5= np.sum(y_p_test5 == y_test)/len(y_p_test5) * 100\n",
    "print(f\"Test accuracy with k = 5: {format(test_acc5)}\")"
   ]
  }
 ],
 "metadata": {
  "kernelspec": {
   "display_name": "Python 3",
   "language": "python",
   "name": "python3"
  },
  "language_info": {
   "codemirror_mode": {
    "name": "ipython",
    "version": 3
   },
   "file_extension": ".py",
   "mimetype": "text/x-python",
   "name": "python",
   "nbconvert_exporter": "python",
   "pygments_lexer": "ipython3",
   "version": "3.7.1"
  }
 },
 "nbformat": 4,
 "nbformat_minor": 2
}
